{
 "cells": [
  {
   "cell_type": "code",
   "execution_count": 1,
   "id": "1a05ff12",
   "metadata": {},
   "outputs": [
    {
     "name": "stdout",
     "output_type": "stream",
     "text": [
      "^C\n",
      "Requirement already satisfied: unidecode in c:\\users\\b28166\\appdata\\local\\anaconda3\\lib\\site-packages (1.2.0)\n",
      "Requirement already satisfied: azure-ai-formrecognizer in c:\\users\\b28166\\appdata\\local\\anaconda3\\lib\\site-packages (3.3.3)\n",
      "Requirement already satisfied: azure-core>=1.23.0 in c:\\users\\b28166\\appdata\\local\\anaconda3\\lib\\site-packages (from azure-ai-formrecognizer) (1.30.2)\n",
      "Requirement already satisfied: msrest>=0.6.21 in c:\\users\\b28166\\appdata\\local\\anaconda3\\lib\\site-packages (from azure-ai-formrecognizer) (0.7.1)\n",
      "Requirement already satisfied: azure-common>=1.1 in c:\\users\\b28166\\appdata\\local\\anaconda3\\lib\\site-packages (from azure-ai-formrecognizer) (1.1.28)\n",
      "Requirement already satisfied: typing-extensions>=4.0.1 in c:\\users\\b28166\\appdata\\local\\anaconda3\\lib\\site-packages (from azure-ai-formrecognizer) (4.7.1)\n",
      "Requirement already satisfied: requests>=2.21.0 in c:\\users\\b28166\\appdata\\local\\anaconda3\\lib\\site-packages (from azure-core>=1.23.0->azure-ai-formrecognizer) (2.31.0)\n",
      "Requirement already satisfied: six>=1.11.0 in c:\\users\\b28166\\appdata\\local\\anaconda3\\lib\\site-packages (from azure-core>=1.23.0->azure-ai-formrecognizer) (1.16.0)\n",
      "Requirement already satisfied: certifi>=2017.4.17 in c:\\users\\b28166\\appdata\\local\\anaconda3\\lib\\site-packages (from msrest>=0.6.21->azure-ai-formrecognizer) (2024.2.2)\n",
      "Requirement already satisfied: isodate>=0.6.0 in c:\\users\\b28166\\appdata\\local\\anaconda3\\lib\\site-packages (from msrest>=0.6.21->azure-ai-formrecognizer) (0.6.1)\n",
      "Requirement already satisfied: requests-oauthlib>=0.5.0 in c:\\users\\b28166\\appdata\\local\\anaconda3\\lib\\site-packages (from msrest>=0.6.21->azure-ai-formrecognizer) (2.0.0)\n",
      "Requirement already satisfied: charset-normalizer<4,>=2 in c:\\users\\b28166\\appdata\\local\\anaconda3\\lib\\site-packages (from requests>=2.21.0->azure-core>=1.23.0->azure-ai-formrecognizer) (2.0.4)\n",
      "Requirement already satisfied: idna<4,>=2.5 in c:\\users\\b28166\\appdata\\local\\anaconda3\\lib\\site-packages (from requests>=2.21.0->azure-core>=1.23.0->azure-ai-formrecognizer) (3.4)\n",
      "Requirement already satisfied: urllib3<3,>=1.21.1 in c:\\users\\b28166\\appdata\\local\\anaconda3\\lib\\site-packages (from requests>=2.21.0->azure-core>=1.23.0->azure-ai-formrecognizer) (1.26.16)\n",
      "Requirement already satisfied: oauthlib>=3.0.0 in c:\\users\\b28166\\appdata\\local\\anaconda3\\lib\\site-packages (from requests-oauthlib>=0.5.0->msrest>=0.6.21->azure-ai-formrecognizer) (3.2.2)\n",
      "Requirement already satisfied: pymupdf in c:\\users\\b28166\\appdata\\local\\anaconda3\\lib\\site-packages (1.24.7)\n",
      "Requirement already satisfied: unidecode in c:\\users\\b28166\\appdata\\local\\anaconda3\\lib\\site-packages (1.2.0)\n",
      "Requirement already satisfied: PyMuPDFb==1.24.6 in c:\\users\\b28166\\appdata\\local\\anaconda3\\lib\\site-packages (from pymupdf) (1.24.6)\n",
      "Requirement already satisfied: openpyxl in c:\\users\\b28166\\appdata\\local\\anaconda3\\lib\\site-packages (3.0.10)\n",
      "Requirement already satisfied: et_xmlfile in c:\\users\\b28166\\appdata\\local\\anaconda3\\lib\\site-packages (from openpyxl) (1.1.0)\n"
     ]
    }
   ],
   "source": [
    "!pip install unidecode\n",
    "!pip install azure-ai-formrecognizer\n",
    "!pip install pymupdf unidecode\n",
    "!pip install openpyxl\n",
    "\n",
    "\n",
    "\n"
   ]
  },
  {
   "cell_type": "code",
   "execution_count": 2,
   "id": "3e3692db",
   "metadata": {},
   "outputs": [],
   "source": [
    "from unidecode import unidecode\n",
    "# Azure AI\n",
    "from azure.ai.formrecognizer import DocumentAnalysisClient\n",
    "from azure.core.credentials import AzureKeyCredential\n",
    "\n",
    "from azure.ai.formrecognizer import (\n",
    "    DocumentModelAdministrationClient,\n",
    "    ModelBuildMode,\n",
    ")\n",
    "from azure.core.credentials import AzureKeyCredential\n",
    "\n",
    "# search regex\n",
    "import re\n",
    "\n",
    "# read pdfs\n",
    "import fitz\n",
    "\n",
    "# list files in directory\n",
    "from os import listdir\n",
    "from os.path import isfile, join\n",
    "import shutil\n",
    "from pathlib import Path\n",
    "\n",
    "import json\n",
    "import numpy as np\n",
    "import pandas as pd\n",
    "import time\n",
    "from datetime import datetime\n",
    "from typing import Tuple, Dict\n"
   ]
  },
  {
   "cell_type": "markdown",
   "id": "fc9deb66",
   "metadata": {},
   "source": [
    "###########Constantes####################"
[
  {
   "cell_type": "code",
   "execution_count": 3,
   "id": "a1a5c99e",
   "metadata": {},
   "outputs": [],
   "source": [
    "import os\n",
    "import pandas as pd\n",
    "from azure.ai.formrecognizer import DocumentAnalysisClient\n",
    "from azure.core.credentials import AzureKeyCredential\n",
    "\n",
    "ENDPOINT = \"\"\n",
    "KEY = \"\"\n",
    "MODEL_ID = \"prebuilt-document\"\n",
    "input_path = \"\"\n"
   ]
  },
  {
   "cell_type": "markdown",
   "id": "fc9deb66",
   "metadata": {},
   "source": [
    "###########Constantes####################"
   ]
  },
  {
   "cell_type": "code",
   "execution_count": 4,
   "id": "dd6263eb",
   "metadata": {},
   "outputs": [
    {
     "name": "stdout",
     "output_type": "stream",
     "text": [
      "File RAI_10_P.pdf read successfully.\n",
      "File RAI_11_P.pdf read successfully.\n",
      "File RAI_1_P.pdf read successfully.\n",
      "File RAI_2_P.pdf read successfully.\n",
      "File RAI_3_P.pdf read successfully.\n",
      "File RAI_4_P.pdf read successfully.\n",
      "File RAI_5_P.pdf read successfully.\n",
      "File RAI_6_P.pdf read successfully.\n",
      "File RAI_7_P.pdf read successfully.\n",
      "File RAI_8_P.pdf read successfully.\n",
      "File RAI_9_P.pdf read successfully.\n"
     ]
    }
   ]
  }
]

    }
   ],
   "source": [
    "import os\n",
    "\n",
    "# Defina o caminho para a pasta\n",
    "input_path = r\"C:\\Users\\B28166\\Desktop\\Relatorios_avaliacao\"\n",
    "\n",
    "# Iterar sobre cada item na pasta\n",
    "for item in os.listdir(input_path):\n",
    "    item_path = os.path.join(input_path, item)\n",
    "    \n",
    "    # Verificar se o item é um ficheiro\n",
    "    if os.path.isfile(item_path):\n",
    "        with open(item_path, 'rb') as file:\n",
    "            content = file.read()\n",
    "        if content:\n",
    "            print(f\"File {item} read successfully.\")\n",
    "        else:\n",
    "            print(f\"Failed to read file {item}.\")\n",
    "\n"
   ]
  },
  {
   "cell_type": "code",
   "execution_count": null,
   "id": "ec3c7ad2",
   "metadata": {},
   "outputs": [],
   "source": [
    "# Crie o cliente de análise de documentos\n",
    "document_analysis_client = DocumentAnalysisClient(endpoint=ENDPOINT, credential=AzureKeyCredential(KEY))\n",
    "\n",
    "# Inicialize uma lista para armazenar os dados\n",
    "data = []\n",
    "\n",
    "# Iterar sobre cada item na pasta\n",
    "for item in os.listdir(input_path):\n",
    "    item_path = os.path.join(input_path, item)\n",
    "    \n",
    "    # Verificar se o item é um ficheiro\n",
    "    if os.path.isfile(item_path):\n",
    "        # Leia o conteúdo do arquivo\n",
    "        with open(item_path, \"rb\") as file:\n",
    "            file_content = file.read()\n",
    "\n",
    "        # Inicie a análise do documento\n",
    "        poller = document_analysis_client.begin_analyze_document(MODEL_ID, file_content)\n",
    "        result = poller.result()\n",
    "\n",
    "        # Adicione os pares chave-valor ao DataFrame\n",
    "        for kv_pair in result.key_value_pairs:\n",
    "            key = kv_pair.key.content if kv_pair.key else None\n",
    "            value = kv_pair.value.content if kv_pair.value else None\n",
    "            confidence = kv_pair.confidence if kv_pair.confidence else None\n",
    "            data.append({'document': item, 'key': key, 'value': value, 'confidence': confidence})"
   ]
  },
  {
   "cell_type": "code",
   "execution_count": 159,
   "id": "99c4100b",
   "metadata": {},
   "outputs": [],
   "source": [
    "# Crie um DataFrame a partir da lista de dados\n",
    "df = pd.DataFrame(data)"
   ]
  },
  {
   "cell_type": "code",
   "execution_count": null,
   "id": "f5874a26",
   "metadata": {},
   "outputs": [],
   "source": [
    "# Crie o cliente de análise de documentos\n",
    "document_analysis_client = DocumentAnalysisClient(\n",
    "    endpoint=ENDPOINT, credential=AzureKeyCredential(KEY)\n",
    ")\n",
    "\n",
    "# Defina as chaves que você deseja filtrar\n",
    "desired_keys = ['Nome', 'Endereço', 'Data']  # Exemplo de chaves desejadas\n",
    "\n",
    "# Inicialize uma lista para armazenar os dados\n",
    "data = []\n",
    "\n",
    "# Iterar sobre cada item na pasta\n",
    "for item in os.listdir(input_path):\n",
    "    item_path = os.path.join(input_path, item)\n",
    "    \n",
    "    # Verificar se o item é um ficheiro\n",
    "    if os.path.isfile(item_path):\n",
    "        # Leia o conteúdo do arquivo\n",
    "        with open(item_path, \"rb\") as file:\n",
    "            file_content = file.read()\n",
    "\n",
    "        # Inicie a análise do documento\n",
    "        poller = document_analysis_client.begin_analyze_document(MODEL_ID, file_content)\n",
    "        result = poller.result()\n",
    "\n",
    "        # Adicione os pares chave-valor ao DataFrame, filtrando apenas as chaves desejadas\n",
    "        for kv_pair in result.key_value_pairs:\n",
    "            key = kv_pair.key.content if kv_pair.key else None\n",
    "            value = kv_pair.value.content if kv_pair.value else None\n",
    "            if key in desired_keys:\n",
    "                data.append({'document': item, 'key': key, 'value': value})\n",
    "\n",
    "# Crie um DataFrame a partir da lista de dados\n",
    "df = pd.DataFrame(data)\n",
    "\n",
    "# Converta todos os valores do DataFrame para maiúsculas\n",
    "df = df.applymap(lambda x: x.upper() if isinstance(x, str) else x)"
   ]
  },
  {
   "cell_type": "code",
   "execution_count": 161,
   "id": "ada4c9a9",
   "metadata": {},
   "outputs": [],
   "source": [
    "# Converta todos os valores do DataFrame para maiúsculas\n",
    "df = df.applymap(lambda x: x.upper() if isinstance(x, str) else x)"
   ]
  },
  {
   "cell_type": "code",
   "execution_count": 132,
   "id": "f9268af1",
   "metadata": {},
   "outputs": [
    {
     "name": "stdout",
     "output_type": "stream",
     "text": [
      "DataFrame exportado para C:\\Users\\B28166\\Desktop\\EXCEL RELAORIOS DE AVALIAÇÃO\\EXCEL2.xlsx\n"
     ]
    }
   ],
   "source": [
    "# Defina o caminho do arquivo Excel\n",
    "output_excel_path = r\"C:\\Users\\B28166\\Desktop\\EXCEL RELAORIOS DE AVALIAÇÃO\\EXCEL2.xlsx\"\n",
    "\n",
    "# Exportar o DataFrame para um arquivo Excel\n",
    "df.to_excel(output_excel_path, index=False, engine='openpyxl')\n",
    "\n",
    "print(f\"DataFrame exportado para {output_excel_path}\")"
   ]
  },
  {
   "cell_type": "code",
   "execution_count": 163,
   "id": "dfa23bb5",
   "metadata": {},
   "outputs": [],
   "source": [
    "valores_desejados = [\n",
    "    'REFª:',\n",
    "    'Nº DE PROCESSO\t',\n",
    "    'DATA ALTERACAO ESTADO',\n",
    "    'NIF',\n",
    "    'COORDENADAS GPS:',\n",
    "    'RUA',\n",
    "    'ARTIGO',\n",
    "    'CÓDIGO POSTAL',\n",
    "    'LOCALIDADE',\n",
    "    'DISTRITO',\n",
    "    'FREGUESIA',\n",
    "    'CONCELHO',\n",
    "    'ANO DE CONSTRUÇÃO',\n",
    "    'AREA HABITACAO',\n",
    "    'ACIMA DO SOLO',\n",
    "    'Nº DE PISOS:',\n",
    "    'PERSIANAS',\n",
    "    'CAIXILHARIA',\n",
    "    'ESTRUTURA',\n",
    "    'REVESTIMENTO EXTERIOR',\n",
    "    'COBERTURA',\n",
    "    'DESCRIÇÂO DA HABITAÇÃO',\n",
    "    'TIPOLOGIA',\n",
    "    'RATING',\n",
    "    'FRAÇÃO',\n",
    "    'ESTADO CONSERVAÇÃO EDIFÍCIO',\n",
    "    'ESTADO CONSERVAÇÃO CANALIZAÇÃO',\n",
    "    'ESTADO CONSERVAÇÃO ELÉTRICA',\n",
    "    'TIPO EDIFICIO',\n",
    "    'ESTADO DE CONSERVAÇÃO',\n",
    "    'PAVIMENTOS ZONAS SECAS',\n",
    "    'TETOS',\n",
    "    'EQUIPAMENTOS',\n",
    "    'NÍVEL DE ACABAMENTOS',\n",
    "    'PAREDES ZONAS HÚMIDAS',\n",
    "    'PAREDES ZONAS SECAS',\n",
    "    'PAVIMENTOS ZONAS HÚMIDAS',\n",
    "    'ÁREA DO PAVIMENTO',\n",
    "    'VALOR COMERCIAL',\n",
    "    'Nº APÓLICE:',\n",
    "    'ANO DE CONSTRUÇÃO'\n",
    "    'VALOR ATUAL',\n",
    "    ]\n",
    "\n",
    "# Filtrar o DataFrame para manter apenas as linhas onde o valor da coluna 'KEY' está na lista de valores desejados\n",
    "df_filtrado = df[df['key'].isin(valores_desejados)]\n",
    "\n",
    "# Se você tem uma coluna que identifica documentos únicos, substitua 'documento' por esse nome\n",
    "# Caso contrário, ajuste conforme a sua estrutura\n",
    "coluna_documento = 'document'  # Substitua 'documento' pelo nome da sua coluna\n",
    "\n",
    "if coluna_documento in df_filtrado.columns:\n",
    "    # Remover duplicatas mantendo a primeira ocorrência dentro de cada grupo de documento e KEY\n",
    "    df_filtrado_unico = df_filtrado.drop_duplicates(subset=[coluna_documento, 'key'])\n",
    "else:\n",
    "    # Se não houver coluna 'documento', apenas remova duplicatas baseadas na coluna 'KEY'\n",
    "    df_filtrado_unico = df_filtrado.drop_duplicates(subset=['key'])"
   ]
  },
  {
   "cell_type": "code",
   "execution_count": 164,
   "id": "64380993",
   "metadata": {
    "scrolled": true
   },
   "outputs": [
    {
     "data": {
      "text/html": [
       "<div>\n",
       "<style scoped>\n",
       "    .dataframe tbody tr th:only-of-type {\n",
       "        vertical-align: middle;\n",
       "    }\n",
       "\n",
       "    .dataframe tbody tr th {\n",
       "        vertical-align: top;\n",
       "    }\n",
       "\n",
       "    .dataframe thead th {\n",
       "        text-align: right;\n",
       "    }\n",
       "</style>\n",
       "<table border=\"1\" class=\"dataframe\">\n",
       "  <thead>\n",
       "    <tr style=\"text-align: right;\">\n",
       "      <th></th>\n",
       "      <th>document</th>\n",
       "      <th>key</th>\n",
       "      <th>value</th>\n",
       "      <th>confidence</th>\n",
       "    </tr>\n",
       "  </thead>\n",
       "  <tbody>\n",
       "    <tr>\n",
       "      <th>0</th>\n",
       "      <td>RAI_10_P.PDF</td>\n",
       "      <td>REFª:</td>\n",
       "      <td>RAI_001924000000521.000001.2024</td>\n",
       "      <td>0.923</td>\n",
       "    </tr>\n",
       "    <tr>\n",
       "      <th>8</th>\n",
       "      <td>RAI_10_P.PDF</td>\n",
       "      <td>NIF</td>\n",
       "      <td>306391325</td>\n",
       "      <td>0.923</td>\n",
       "    </tr>\n",
       "    <tr>\n",
       "      <th>14</th>\n",
       "      <td>RAI_10_P.PDF</td>\n",
       "      <td>RUA</td>\n",
       "      <td>AVENIDA 25 DE ABRIL</td>\n",
       "      <td>0.875</td>\n",
       "    </tr>\n",
       "    <tr>\n",
       "      <th>16</th>\n",
       "      <td>RAI_10_P.PDF</td>\n",
       "      <td>CÓDIGO POSTAL</td>\n",
       "      <td>2200 - 299</td>\n",
       "      <td>0.875</td>\n",
       "    </tr>\n",
       "    <tr>\n",
       "      <th>17</th>\n",
       "      <td>RAI_10_P.PDF</td>\n",
       "      <td>LOCALIDADE</td>\n",
       "      <td>ABRANTES (SÃO VICENTE)</td>\n",
       "      <td>0.886</td>\n",
       "    </tr>\n",
       "    <tr>\n",
       "      <th>...</th>\n",
       "      <td>...</td>\n",
       "      <td>...</td>\n",
       "      <td>...</td>\n",
       "      <td>...</td>\n",
       "    </tr>\n",
       "    <tr>\n",
       "      <th>2045</th>\n",
       "      <td>RAI_9_P.PDF</td>\n",
       "      <td>Nº DE PISOS:</td>\n",
       "      <td>None</td>\n",
       "      <td>0.172</td>\n",
       "    </tr>\n",
       "    <tr>\n",
       "      <th>2046</th>\n",
       "      <td>RAI_9_P.PDF</td>\n",
       "      <td>ACIMA DO SOLO</td>\n",
       "      <td>1</td>\n",
       "      <td>0.704</td>\n",
       "    </tr>\n",
       "    <tr>\n",
       "      <th>2051</th>\n",
       "      <td>RAI_9_P.PDF</td>\n",
       "      <td>ANO DE CONSTRUÇÃO</td>\n",
       "      <td>1977</td>\n",
       "      <td>0.725</td>\n",
       "    </tr>\n",
       "    <tr>\n",
       "      <th>2070</th>\n",
       "      <td>RAI_9_P.PDF</td>\n",
       "      <td>VALOR COMERCIAL</td>\n",
       "      <td>240.440,00</td>\n",
       "      <td>0.909</td>\n",
       "    </tr>\n",
       "    <tr>\n",
       "      <th>2096</th>\n",
       "      <td>RAI_9_P.PDF</td>\n",
       "      <td>Nº APÓLICE:</td>\n",
       "      <td>8100103424</td>\n",
       "      <td>0.875</td>\n",
       "    </tr>\n",
       "  </tbody>\n",
       "</table>\n",
       "<p>190 rows × 4 columns</p>\n",
       "</div>"
      ],
      "text/plain": [
       "          document                key                            value  \\\n",
       "0     RAI_10_P.PDF              REFª:  RAI_001924000000521.000001.2024   \n",
       "8     RAI_10_P.PDF                NIF                        306391325   \n",
       "14    RAI_10_P.PDF                RUA              AVENIDA 25 DE ABRIL   \n",
       "16    RAI_10_P.PDF      CÓDIGO POSTAL                       2200 - 299   \n",
       "17    RAI_10_P.PDF         LOCALIDADE           ABRANTES (SÃO VICENTE)   \n",
       "...            ...                ...                              ...   \n",
       "2045   RAI_9_P.PDF       Nº DE PISOS:                             None   \n",
       "2046   RAI_9_P.PDF      ACIMA DO SOLO                                1   \n",
       "2051   RAI_9_P.PDF  ANO DE CONSTRUÇÃO                             1977   \n",
       "2070   RAI_9_P.PDF    VALOR COMERCIAL                       240.440,00   \n",
       "2096   RAI_9_P.PDF        Nº APÓLICE:                       8100103424   \n",
       "\n",
       "      confidence  \n",
       "0          0.923  \n",
       "8          0.923  \n",
       "14         0.875  \n",
       "16         0.875  \n",
       "17         0.886  \n",
       "...          ...  \n",
       "2045       0.172  \n",
       "2046       0.704  \n",
       "2051       0.725  \n",
       "2070       0.909  \n",
       "2096       0.875  \n",
       "\n",
       "[190 rows x 4 columns]"
      ]
     },
     "execution_count": 164,
     "metadata": {},
     "output_type": "execute_result"
    }
   ],
   "source": [
    " df_filtrado_unico"
   ]
  },
  {
   "cell_type": "markdown",
   "id": "5c53baa4",
   "metadata": {},
   "source": [
    "##EXCEL##############"
   ]
  },
  {
   "cell_type": "code",
   "execution_count": 165,
   "id": "1158f97f",
   "metadata": {},
   "outputs": [
    {
     "name": "stdout",
     "output_type": "stream",
     "text": [
      "DataFrame exportado para C:\\Users\\B28166\\Desktop\\EXCEL RELAORIOS DE AVALIAÇÃO\\EXCEL6.xlsx\n"
     ]
    }
   ],
   "source": [
    "# Defina o caminho do arquivo Excel\n",
    "output_excel_path = r\"C:\\Users\\B28166\\Desktop\\EXCEL RELAORIOS DE AVALIAÇÃO\\EXCEL6.xlsx\"\n",
    "\n",
    "# Exportar o DataFrame para um arquivo Excel\n",
    "df_filtrado_unico.to_excel(output_excel_path, index=False, engine='openpyxl')\n",
    "\n",
    "print(f\"DataFrame exportado para {output_excel_path}\")\n"
   ]
  }
 ],
 "metadata": {
  "kernelspec": {
   "display_name": "Python 3 (ipykernel)",
   "language": "python",
   "name": "python3"
  },
  "language_info": {
   "codemirror_mode": {
    "name": "ipython",
    "version": 3
   },
   "file_extension": ".py",
   "mimetype": "text/x-python",
   "name": "python",
   "nbconvert_exporter": "python",
   "pygments_lexer": "ipython3",
   "version": "3.11.5"
  }
 },
 "nbformat": 4,
 "nbformat_minor": 5
}
